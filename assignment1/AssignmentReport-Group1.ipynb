{
 "cells": [
  {
   "cell_type": "markdown",
   "metadata": {},
   "source": [
    "# Assignment 1 Report"
   ]
  },
  {
   "cell_type": "markdown",
   "metadata": {},
   "source": [
    "This is an outline for your report to ease the amount of work required to create your report. Jupyter notebook supports markdown, and I recommend you to check out this [cheat sheet](https://github.com/adam-p/markdown-here/wiki/Markdown-Cheatsheet). If you are not familiar with markdown.\n",
    "\n",
    "Before delivery, **remember to convert this file to PDF**. You can do it in two ways:\n",
    "1. Print the webpage (ctrl+P or cmd+P)\n",
    "2. Export with latex. This is somewhat more difficult, but you'll get somehwat of a \"prettier\" PDF. Go to File -> Download as -> PDF via LaTeX. You might have to install nbconvert and pandoc through conda; `conda install nbconvert pandoc`."
   ]
  },
  {
   "cell_type": "markdown",
   "metadata": {},
   "source": [
    "# Task 1"
   ]
  },
  {
   "cell_type": "markdown",
   "metadata": {},
   "source": [
    "## task 1a)\n",
    "\n",
    "The cost function is:\n",
    "\n",
    "$\n",
    "C(w) = \\frac{1}{N} \\sum_{n=1}^{N}C^n\n",
    "$\n"
   ]
  },
  {
   "cell_type": "markdown",
   "metadata": {},
   "source": [
    "where $C^n(w)$ is given as:\n",
    "\n",
    "$\n",
    "C^n(w) = -(y^n(ln(\\hat{y}^n) + (1-y^n)ln(1-\\hat{y}^n)))\n",
    "$"
   ]
  },
  {
   "cell_type": "markdown",
   "metadata": {},
   "source": [
    "and $\\hat{y}$ is:\n",
    "\n",
    "$\n",
    "\\hat{y}^n = \\frac{1}{1+e^{-w_i^Tx^n_i}}\n",
    "$\n"
   ]
  },
  {
   "cell_type": "markdown",
   "metadata": {},
   "source": [
    "Thus the gradient of the cost function w.r.t. $w_i$ is\n",
    "\n",
    "$\n",
    "\\frac{\\partial C^n(w)}{\\partial w_i} = \\frac{\\partial}{\\partial w_i} \\left  (- \\left (y^nln\\left (\\frac{1}{1+e^{-w_i^Tx}}\\right ) + (1-y^n)ln \\left (1-\\frac{1}{1+e^{-w_i^Tx}} \\right )\\right ) \\right)\n",
    "$"
   ]
  },
  {
   "cell_type": "markdown",
   "metadata": {},
   "source": [
    "$\n",
    "= \\frac{\\partial}{\\partial w_i} \\left ( y^n ln(1 + e^{-w_i^Tx}) - (1-y^n)(-w^Tx^n_i - ln(1 + e^{-w_i^Tx}))   \\right)\n",
    "$"
   ]
  },
  {
   "cell_type": "markdown",
   "metadata": {},
   "source": [
    "$\n",
    "= \\frac{\\partial}{\\partial w_i} \\left( y^nln(1+e^{-w^Tx}) + w_i^Tx^n_i + ln(1+e^{-w^Tx}) - y^nw_i^Tx^n_i - y^nln(1 + e^{-w^Tx}) \\right )\n",
    "$"
   ]
  },
  {
   "cell_type": "markdown",
   "metadata": {},
   "source": [
    "$\n",
    "= \\frac{\\partial}{\\partial w_i} \\left ( ln(1 + e^{-w^Tx})  + (1 - y^n)w_i^Tx^n_i \\right)\n",
    "$"
   ]
  },
  {
   "cell_type": "markdown",
   "metadata": {},
   "source": [
    "$\n",
    "= \\frac{-e^{-w_i^Tx^n_i}}{1 + e^{-w_i^Tx^n_i}} x^n_i - (y^n -1)x^n_i\n",
    "$"
   ]
  },
  {
   "cell_type": "markdown",
   "metadata": {},
   "source": [
    "$\n",
    "=  \\left (\\frac{1}{1 + e^{-w^Tx^m_i}} - 1 \\right) x^n_i - y^nx^n_i + x^n_i \n",
    "$"
   ]
  },
  {
   "cell_type": "markdown",
   "metadata": {},
   "source": [
    "$\n",
    "= \\hat{y}^nx^n_i - x^n_i - y^n + x^n_i\n",
    "$"
   ]
  },
  {
   "cell_type": "markdown",
   "metadata": {},
   "source": [
    "$\n",
    "= -(y^n - \\hat{y}^n)x^n_i\n",
    "$"
   ]
  },
  {
   "cell_type": "markdown",
   "metadata": {},
   "source": [
    "## task 1a)\n",
    "\n",
    "The cost function is:\n",
    "\n",
    "$\n",
    "C(w) = \\frac{1}{N}\\sum_{n = 1}^{N} C^n(w)\n",
    "$\n"
   ]
  },
  {
   "cell_type": "markdown",
   "metadata": {},
   "source": [
    "where $C^n(w)$ is given as:\n",
    "\n",
    "$\n",
    "C^n(w) = - \\sum_{k = 1}^{K} y^nln(\\hat{y}^n_k)\n",
    "$"
   ]
  },
  {
   "cell_type": "markdown",
   "metadata": {},
   "source": [
    "and $\\hat{y}_k$ is\n",
    "\n",
    "$\n",
    "\\hat{y}_k = \\frac{e^{z_k}}{\\sum_{k'}^K e^{z_{k'}}}\n",
    "$\n",
    "\n",
    "with\n",
    "\n",
    "$\n",
    "z_k = w^T_k  \\times x = \\sum_i^I w_{k, i} \\times x_i\n",
    "$"
   ]
  },
  {
   "cell_type": "markdown",
   "metadata": {},
   "source": [
    "Thus\n",
    "\n",
    "$\n",
    "\\frac{\\partial C^n(w)}{\\partial w_{kj}} = \\frac{\\partial}{\\partial w_{kj}} \\left( -\\sum_{k=1}^{K} y^n_k ln(\\hat{y}^n_k)\\right)\n",
    "$"
   ]
  },
  {
   "cell_type": "markdown",
   "metadata": {},
   "source": [
    "$\n",
    "= \\frac{\\partial}{\\partial w_{kj}} \\left ( -\\sum_{k=1}^K y^n_kln \\left (\\frac{e^{w^T_{k,j} x^n_j}}{\\sum_{k'}^K e^{w_{k, j} x^n_j}} \\right ) \\right)\n",
    "$"
   ]
  },
  {
   "cell_type": "markdown",
   "metadata": {},
   "source": [
    "$\n",
    "= \\frac{\\partial}{\\partial w_{kj}} \\left( - \\sum_{k=1}^K y^n_k \\left (w^T_{k, j}x_j^n - ln \\left(\\sum_{k'}^K e^{w_{k',j}x^n_j} \\right )\\right)  \\right)\n",
    "$"
   ]
  },
  {
   "cell_type": "markdown",
   "metadata": {},
   "source": [
    "The $y^n_k$ is a vector with all zeros except for one row, row $k$. Thus we can simplify the expression by only looking at $y^n_k$:"
   ]
  },
  {
   "cell_type": "markdown",
   "metadata": {},
   "source": [
    "$\n",
    "= \\frac{\\partial}{\\partial w_{kj}} \\left( -y^n_k \\left (w^T_{k, j}x_j^n - ln \\left(\\sum_{k'}^K e^{w_{k',j} x^n_j} \\right )\\right)  \\right)\n",
    "$"
   ]
  },
  {
   "cell_type": "markdown",
   "metadata": {},
   "source": [
    "$\n",
    "= -y^n_kx^n_j + \\frac{x^n_j e^{w_{k,j}x^n_j}}{\\sum_{k'}^K e^{w_{k',j} x^n_j}}\n",
    "$"
   ]
  },
  {
   "cell_type": "markdown",
   "metadata": {},
   "source": [
    "$\n",
    "=-x^n_j(y^n - \\hat{y}^n_k)\n",
    "$"
   ]
  },
  {
   "cell_type": "markdown",
   "metadata": {},
   "source": [
    "# Task 2"
   ]
  },
  {
   "cell_type": "markdown",
   "metadata": {},
   "source": [
    "## Task 2b)\n",
    "![](task2b_binary_train_loss.png)"
   ]
  },
  {
   "cell_type": "markdown",
   "metadata": {},
   "source": [
    "## Task 2c)\n",
    "![](task2b_binary_train_accuracy.png)"
   ]
  },
  {
   "cell_type": "markdown",
   "metadata": {},
   "source": [
    "## Task 2d)\n",
    "FILL IN ANSWER"
   ]
  },
  {
   "cell_type": "markdown",
   "metadata": {},
   "source": [
    "## Task 2e)\n",
    "FILL IN ANSWER\n",
    "![](task2e_train_accuracy_shuffle_difference.png)"
   ]
  },
  {
   "cell_type": "markdown",
   "metadata": {},
   "source": [
    "# Task 3"
   ]
  },
  {
   "cell_type": "markdown",
   "metadata": {},
   "source": [
    "## Task 3b)\n",
    "![](task3b_softmax_train_loss.png)"
   ]
  },
  {
   "cell_type": "markdown",
   "metadata": {},
   "source": [
    "## Task 3c)\n",
    "![](task3b_softmax_train_accuracy.png)"
   ]
  },
  {
   "cell_type": "markdown",
   "metadata": {},
   "source": [
    "## Task 3d)\n",
    "FILL IN ANSWER"
   ]
  },
  {
   "cell_type": "markdown",
   "metadata": {},
   "source": [
    "# Task 4"
   ]
  },
  {
   "cell_type": "markdown",
   "metadata": {},
   "source": [
    "## Task 4a)\n",
    "\n",
    "Fill in image of hand-written notes which are easy to read, or latex equations here"
   ]
  },
  {
   "cell_type": "markdown",
   "metadata": {},
   "source": [
    "## Task 4b)\n",
    "FILL IN ANSWER\n",
    "\n",
    "![](task4b_softmax_weight.png)"
   ]
  },
  {
   "cell_type": "markdown",
   "metadata": {},
   "source": [
    "## Task 4c)\n",
    "FILL IN ANSWER\n",
    "\n",
    "![](task4c_l2_reg_accuracy.png)"
   ]
  },
  {
   "cell_type": "markdown",
   "metadata": {},
   "source": [
    "## Task 4d)\n",
    "![](task4d_l2_reg_norms.png)"
   ]
  },
  {
   "cell_type": "markdown",
   "metadata": {},
   "source": [
    "## Task 4e)\n",
    "FILL IN ANSWER"
   ]
  }
 ],
 "metadata": {
  "interpreter": {
   "hash": "bb98e01f42c7f6065b4a5fce52b0e4fdf9a26dfb707d3a35d10b8d32268997a0"
  },
  "kernelspec": {
   "display_name": "Python 3.8.1 64-bit ('py38': conda)",
   "language": "python",
   "name": "python3"
  },
  "language_info": {
   "codemirror_mode": {
    "name": "ipython",
    "version": 3
   },
   "file_extension": ".py",
   "mimetype": "text/x-python",
   "name": "python",
   "nbconvert_exporter": "python",
   "pygments_lexer": "ipython3",
   "version": "3.8.8"
  }
 },
 "nbformat": 4,
 "nbformat_minor": 4
}
