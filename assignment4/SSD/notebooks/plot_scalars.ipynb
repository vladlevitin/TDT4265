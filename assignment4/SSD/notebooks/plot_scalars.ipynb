{
 "cells": [
  {
   "cell_type": "code",
   "execution_count": 1,
   "metadata": {},
   "outputs": [],
   "source": [
    "import sys, os\n",
    "sys.path.append(os.path.dirname(os.getcwd())) # Include ../SSD in path\n",
    "import tops\n",
    "import matplotlib.pyplot as plt\n",
    "import pathlib\n",
    "from ssd.utils import load_config"
   ]
  },
  {
   "cell_type": "code",
   "execution_count": 2,
   "metadata": {},
   "outputs": [
    {
     "name": "stdout",
     "output_type": "stream",
     "text": [
      "NOTE! Installing ujson may make loading annotations faster.\n",
      "It looks like you are currently working on the server, with a 'working directory' in: /work/snotra/emiljha\n",
      "\tIf you struggle with NTNU home directory becoming full, we recommend you to change the output directory to: /work/snotra/emiljha\n",
      "\t /work/snotra/emiljha does not sync with NTNU HOME, and is a directory only located on the server.\n",
      "\t To change the output directory of SSD, set save_in_work to True in the file configs/utils.py, in the function get_output_dir.\n",
      "Saving SSD outputs to: outputs/\n",
      "Found dataset directory in: /work/datasets/mnist_object_detection/train\n",
      "Found dataset directory in: /work/datasets/mnist_object_detection/val\n"
     ]
    }
   ],
   "source": [
    "cfg = load_config(\"../configs/ssd300.py\")\n",
    "logs = tops.logger.read_logs(pathlib.Path(\"../outputs/ssd300\"))"
   ]
  },
  {
   "cell_type": "code",
   "execution_count": 3,
   "metadata": {},
   "outputs": [
    {
     "name": "stdout",
     "output_type": "stream",
     "text": [
      "[{'loss/regression_loss': 3.5924699306488037, 'loss/classification_loss': 12.591005325317383, 'loss/total_loss': 16.183475494384766, 'global_step': 0}, {'stats/learning_rate': 0.00026936, 'global_step': 1}, {'stats/learning_rate': 0.00027404, 'global_step': 2}, {'stats/learning_rate': 0.00027872000000000004, 'global_step': 3}, {'stats/learning_rate': 0.00028340000000000006, 'global_step': 4}, {'stats/learning_rate': 0.00028808, 'global_step': 5}, {'stats/learning_rate': 0.00029276000000000004, 'global_step': 6}, {'stats/learning_rate': 0.00029744, 'global_step': 7}, {'stats/learning_rate': 0.00030212, 'global_step': 8}, {'stats/learning_rate': 0.00030680000000000003, 'global_step': 9}]\n"
     ]
    }
   ],
   "source": [
    "# The log is formatted as a list of dictionaries\n",
    "print(logs[:10])"
   ]
  },
  {
   "cell_type": "code",
   "execution_count": 4,
   "metadata": {},
   "outputs": [],
   "source": [
    "# We are saving logs to disk every 10th iteration, thus we need to filter out all entries without a loss\n",
    "loss_entries = [entry for entry in logs if \"loss/regression_loss\" in entry]"
   ]
  },
  {
   "cell_type": "code",
   "execution_count": 5,
   "metadata": {},
   "outputs": [
    {
     "data": {
      "image/png": "[encoded data removed]",
      "text/plain": [
       "<Figure size 432x288 with 1 Axes>"
      ]
     },
     "metadata": {
      "needs_background": "light"
     },
     "output_type": "display_data"
    }
   ],
   "source": [
    "plt.plot([entry[\"global_step\"] for entry in loss_entries], [entry[\"loss/regression_loss\"] for entry in loss_entries])\n",
    "plt.ylabel(\"Regression loss\")\n",
    "plt.xlabel(\"Global step (number of batches trained on)\")\n",
    "plt.savefig(\"../../plots/4c.png\", dpi=300)"
   ]
  },
  {
   "cell_type": "code",
   "execution_count": null,
   "metadata": {},
   "outputs": [],
   "source": []
  }
 ],
 "metadata": {
  "kernelspec": {
   "display_name": "Python 3 (ipykernel)",
   "language": "python",
   "name": "python3"
  },
  "language_info": {
   "codemirror_mode": {
    "name": "ipython",
    "version": 3
   },
   "file_extension": ".py",
   "mimetype": "text/x-python",
   "name": "python",
   "nbconvert_exporter": "python",
   "pygments_lexer": "ipython3",
   "version": "3.8.12"
  }
 },
 "nbformat": 4,
 "nbformat_minor": 4
}
