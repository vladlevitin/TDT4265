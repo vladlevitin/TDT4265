{
 "cells": [
  {
   "cell_type": "markdown",
   "metadata": {},
   "source": [
    "# Assignment 4 Report"
   ]
  },
  {
   "cell_type": "markdown",
   "metadata": {},
   "source": [
    "This is an outline for your report to ease the amount of work required to create your report. Jupyter notebook supports markdown, and I recommend you to check out this [cheat sheet](https://github.com/adam-p/markdown-here/wiki/Markdown-Cheatsheet). If you are not familiar with markdown.\n",
    "\n",
    "Before delivery, **remember to convert this file to PDF**. You can do it in two ways:\n",
    "1. Print the webpage (ctrl+P or cmd+P)\n",
    "2. Export with latex. This is somewhat more difficult, but you'll get somehwat of a \"prettier\" PDF. Go to File -> Download as -> PDF via LaTeX. You might have to install nbconvert and pandoc through conda; `conda install nbconvert pandoc`."
   ]
  },
  {
   "cell_type": "markdown",
   "metadata": {},
   "source": [
    "# Task 1"
   ]
  },
  {
   "cell_type": "markdown",
   "metadata": {},
   "source": [
    "## task 1a)\n",
    "Intersection over union is a measure of how much a predicted boundary overlaps with the true boundary. The forumla is \n",
    "\n",
    "$\n",
    "\\text{IoU} = \\frac{\\text{area of overlap}}{\\text{area of union}}\n",
    "$\n",
    "\n",
    "In the below picture, from Jonathan Hui´s text on mean average precision for object detection, you can see the different areas. The dark blue one is the area of overlap, and the brighter blue is the area of union.\n",
    "\n",
    "![](Iou.png)"
   ]
  },
  {
   "cell_type": "markdown",
   "metadata": {},
   "source": [
    "## task 1b)\n",
    "Equation for precision and recall:\n",
    "\n",
    "$\n",
    "Precision = \\frac{TP}{TP + FP}\n",
    "$\n",
    "\n",
    "$\n",
    "Recall = \\frac{TP}{TP + FN}\n",
    "$\n",
    "\n",
    "True positive is an outcome where the model correctly predicts a positive class. And a false negative is an outcome where the model predicts a negative class, when the true class actually is positive."
   ]
  },
  {
   "cell_type": "markdown",
   "metadata": {},
   "source": [
    "## task 1c)\n"
   ]
  },
  {
   "cell_type": "code",
   "execution_count": 1,
   "metadata": {},
   "outputs": [
    {
     "data": {
      "text/plain": [
       "(0.0, 1.1)"
      ]
     },
     "execution_count": 1,
     "metadata": {},
     "output_type": "execute_result"
    },
    {
     "data": {
      "image/png": "[encoded data removed]",
      "text/plain": [
       "<Figure size 432x288 with 1 Axes>"
      ]
     },
     "metadata": {
      "needs_background": "light"
     },
     "output_type": "display_data"
    }
   ],
   "source": [
    "import matplotlib.pyplot as plt\n",
    "import numpy as np\n",
    "\n",
    "precision1 = [1.0, 1.0, 1.0, 0.5, 0.2]\n",
    "recall1 = [0.05, 0.1, 0.4, 0.7, 1]\n",
    "\n",
    "plt.plot(recall1, precision1)\n",
    "plt.title(\"Class 1\")\n",
    "plt.grid()\n",
    "plt.xlabel(\"Recall\"), plt.ylabel(\"Precision\")\n",
    "plt.xticks(np.linspace(0, 1, 11));\n",
    "plt.ylim([0, 1.1])"
   ]
  },
  {
   "cell_type": "markdown",
   "metadata": {},
   "source": [
    "The above plot shows the precision and recall curve for class 1 with the given values. From this plot it is possible to read the values needed for calculating the mAP and do the calculation.\n",
    "\n",
    "$\n",
    "mAP_1 = \\frac{1}{11} \\sum_{r \\in \\{0.0, 0.1, ..., 1.0\\}} AP_r = \\frac{1}{11} (1.0 * 5 + 0.75 + 0.65 + 0.5 + 0.4 + 0.3 + 0.2) = 0.705\n",
    "$"
   ]
  },
  {
   "cell_type": "code",
   "execution_count": 2,
   "metadata": {},
   "outputs": [
    {
     "data": {
      "text/plain": [
       "(0.0, 1.1)"
      ]
     },
     "execution_count": 2,
     "metadata": {},
     "output_type": "execute_result"
    },
    {
     "data": {
      "image/png": "[encoded data removed]",
      "text/plain": [
       "<Figure size 432x288 with 1 Axes>"
      ]
     },
     "metadata": {
      "needs_background": "light"
     },
     "output_type": "display_data"
    }
   ],
   "source": [
    "precision2 = [1.0, 1.0, 0.8, 0.6, 0.5, 0.2]\n",
    "recall2 = [0.0, 0.3, 0.4, 0.5, 0.7, 1.0]\n",
    "# Added the point (0, 1) to get the line from the start.\n",
    "\n",
    "plt.plot(recall2, precision2)\n",
    "plt.title(\"Class 2\")\n",
    "plt.grid()\n",
    "plt.xlabel(\"Recall\"), plt.ylabel(\"Precision\")\n",
    "plt.xticks(np.linspace(0, 1, 11));\n",
    "plt.ylim([0, 1.1])"
   ]
  },
  {
   "cell_type": "markdown",
   "metadata": {},
   "source": [
    "By using the same approach as for class 1, we get the following mAP for class 2.\n",
    "\n",
    "$\n",
    "mAP_2 = \\frac{1}{11} \\sum_{r \\in \\{0.0, 0.1, ..., 1.0\\}} AP_r =  \\frac{1}{11}(4 * 1 + 0.8 + 0.6 + 0.55 + 0.5 + 0.4 + 0.3 + 0.2) = 0.668\n",
    "$"
   ]
  },
  {
   "cell_type": "markdown",
   "metadata": {},
   "source": [
    "# Task 2\n",
    "\n",
    "### Task 2f)\n"
   ]
  },
  {
   "cell_type": "markdown",
   "metadata": {},
   "source": [
    "# Task 3"
   ]
  },
  {
   "cell_type": "markdown",
   "metadata": {},
   "source": [
    "### Task 3a)\n",
    "The algorithm that filters out the overlapping boxes pointing at the same object is called non-maximum supression."
   ]
  },
  {
   "cell_type": "markdown",
   "metadata": {},
   "source": [
    "### Task 3b)\n",
    "The SSD blog post states the following: \"Higher-resolution feature maps are responsible for detecting small objects\". And the deeper you get into the SSD, the lower the resolution gets. Thus predictions from the deeper layers in the SSD are *NOT* responsible to detect small objects."
   ]
  },
  {
   "cell_type": "markdown",
   "metadata": {},
   "source": [
    "### Task 3c)\n",
    "The reason why they use different bounding box aspect ratios is to be able to detect and classify objects of many different sizes. If it only used the same boxes or only boxes with different sizes it would not be able to detect object of different sizes. "
   ]
  },
  {
   "cell_type": "markdown",
   "metadata": {},
   "source": [
    "### Task 3d)\n",
    "The main difference between the SSD and the YOLO is that the SSD uses predefined bounding boxes with different aspect ratios that matches what is expeceted to be found in the image. The SSD also does the classification and bounding parts in the same step, while the YOLO first bounds and then extracts the features from the bounded area before classifying based on these features. The SSD also uses multi-scale feature maps for detection. This is done by also doing predictions on detections in the smaller, convoluted layers. "
   ]
  },
  {
   "cell_type": "markdown",
   "metadata": {},
   "source": [
    "### Task 3e)\n",
    "Given that each pixel will at some point be an anchor, we have:\n",
    "\n",
    "$\n",
    "38 \\times 38 \\times 6 \\; \\text{boxes} = 8664 \\; \\text{boxes}\n",
    "$\n"
   ]
  },
  {
   "cell_type": "markdown",
   "metadata": {},
   "source": [
    "### Task 3f)\n",
    "Given that all aspect boxes are used at each pixel at teach resolution, the mumber of boxes will be:\n",
    "\n",
    "$\n",
    "(38 \\times 38 \\times + 19 \\times 19 + 10 \\times 10 + 5 \\times 5 + 3 \\times 3 + 1 \\times 1) \\times 6 \\; \\text{boxes} = 11634 \\; \\text{boxes}\n",
    "$"
   ]
  },
  {
   "cell_type": "markdown",
   "metadata": {},
   "source": [
    "# Task 4"
   ]
  },
  {
   "cell_type": "markdown",
   "metadata": {},
   "source": [
    "## Task 4b)\n",
    "\n",
    "![](plots/4b.png)\n",
    "\n",
    "#### mAP@0.5 = 0.735\n",
    "\n",
    "## Task 4c)\n",
    "FILL IN ANSWER. \n",
    "\n",
    "\n",
    "## Task 4d)\n",
    "FILL IN ANSWER. \n",
    "\n",
    "\n",
    "## Task 4e)\n",
    "FILL IN ANSWER. \n",
    "\n",
    "\n",
    "## Task 4f)\n",
    "FILL IN ANSWER. "
   ]
  },
  {
   "cell_type": "code",
   "execution_count": null,
   "metadata": {},
   "outputs": [],
   "source": []
  }
 ],
 "metadata": {
  "interpreter": {
   "hash": "bb98e01f42c7f6065b4a5fce52b0e4fdf9a26dfb707d3a35d10b8d32268997a0"
  },
  "kernelspec": {
   "display_name": "Python 3 (ipykernel)",
   "language": "python",
   "name": "python3"
  },
  "language_info": {
   "codemirror_mode": {
    "name": "ipython",
    "version": 3
   },
   "file_extension": ".py",
   "mimetype": "text/x-python",
   "name": "python",
   "nbconvert_exporter": "python",
   "pygments_lexer": "ipython3",
   "version": "3.8.12"
  }
 },
 "nbformat": 4,
 "nbformat_minor": 4
}
